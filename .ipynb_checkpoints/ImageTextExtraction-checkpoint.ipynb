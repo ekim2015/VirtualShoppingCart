{
 "cells": [
  {
   "cell_type": "markdown",
   "id": "4e7d02b9-16bb-464b-9e54-4d0a24154c87",
   "metadata": {},
   "source": [
    "# Product Extraction Project\n",
    "The following code will use Pillow, Tesseract OCR engine, and OpenCV to identify text from products shown on the screen, and then we will then use BeautifulSoup to crawl popular marketplaces like Amazon."
   ]
  },
  {
   "cell_type": "markdown",
   "id": "788ce41b-e82e-4271-a0f7-8e236f8f8b60",
   "metadata": {},
   "source": [
    "## Image Extraction\n",
    "The following code deals with the capture and preprocessing of webcam images."
   ]
  },
  {
   "cell_type": "code",
   "execution_count": 2,
   "id": "3662fc13-e348-4f5d-aa29-ba4119f1408a",
   "metadata": {},
   "outputs": [],
   "source": [
    "import cv2\n",
    "import pytesseract"
   ]
  },
  {
   "cell_type": "code",
   "execution_count": 3,
   "id": "452a3b18-3b9e-444f-9368-78c5d8ef8187",
   "metadata": {},
   "outputs": [],
   "source": [
    "cap = cv2.VideoCapture(0)\n",
    "east = cv2.dnn.TextDetectionModel\n",
    "\n",
    "cv2.namedWindow(\"Scan Product Here\")\n",
    "imageNum = 0\n",
    "imageList = []\n",
    "\n",
    "while cap.isOpened():\n",
    "    ret, frame = cap.read()\n",
    "\n",
    "    if not ret:\n",
    "        print(\"Can't receive frame. Exiting...\")\n",
    "        break\n",
    "    cv2.imshow(\"Scan Product Here\", frame)\n",
    "\n",
    "    # draw rectangle around visible text\n",
    "\n",
    "    # quit if q or space pressed\n",
    "    if cv2.waitKey(1) == ord('q'):\n",
    "        break\n",
    "    # 32 represents unicode number for space bar\n",
    "    elif cv2.waitKey(1) == 32:\n",
    "        filename = f\"opencv_img_{imageNum}.png\"\n",
    "        cv2.imwrite(filename, frame)\n",
    "        print(f\"{filename} written!\")\n",
    "        imageNum += 1\n",
    "        imageList.append(filename)\n",
    "\n",
    "cap.release()\n",
    "cv2.destroyAllWindows()"
   ]
  },
  {
   "cell_type": "code",
   "execution_count": 4,
   "id": "3b0b6000-5b5c-4b0c-bcfd-79954a91e0ce",
   "metadata": {},
   "outputs": [],
   "source": [
    "def preprocess_image(filename):\n",
    "    image = cv2.imread(filename, cv2.IMREAD_GRAYSCALE)\n",
    "    cv2.imshow(\"Filtered Image\", image)\n",
    "    # binarization with adaptive thresholding\n",
    "    image = cv2.adaptiveThreshold(image, 255, cv2.ADAPTIVE_THRESH_GAUSSIAN_C, cv2.THRESH_BINARY, 9, 2)\n",
    "    # denoise image\n",
    "    image = cv2.fastNIMeansDenoising(image, None, 2, 7, 21)"
   ]
  },
  {
   "cell_type": "code",
   "execution_count": 4,
   "id": "ff5f6a61-5616-4f64-b8f0-e585f1904f51",
   "metadata": {},
   "outputs": [],
   "source": [
    "preprocess_image('opencv_img_1.png')"
   ]
  },
  {
   "cell_type": "markdown",
   "id": "97f25c01-6268-430c-8019-a26f8b2daa5e",
   "metadata": {},
   "source": [
    "## Web Crawling Functions\n",
    "The next lines of code will deal with scraping information from Amazon and eBay, in order to extract prices and determine ratings."
   ]
  }
 ],
 "metadata": {
  "kernelspec": {
   "display_name": "Python 3 (ipykernel)",
   "language": "python",
   "name": "python3"
  },
  "language_info": {
   "codemirror_mode": {
    "name": "ipython",
    "version": 3
   },
   "file_extension": ".py",
   "mimetype": "text/x-python",
   "name": "python",
   "nbconvert_exporter": "python",
   "pygments_lexer": "ipython3",
   "version": "3.10.9"
  }
 },
 "nbformat": 4,
 "nbformat_minor": 5
}
