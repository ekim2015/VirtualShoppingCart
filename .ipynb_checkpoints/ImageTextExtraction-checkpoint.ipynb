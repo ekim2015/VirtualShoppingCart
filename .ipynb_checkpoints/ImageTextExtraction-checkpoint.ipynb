{
 "cells": [
  {
   "cell_type": "markdown",
   "id": "4e7d02b9-16bb-464b-9e54-4d0a24154c87",
   "metadata": {},
   "source": [
    "# Product Extraction Project\n",
    "The following code will use Pillow, Tesseract OCR engine, and OpenCV to identify text from products shown on the screen, and then we will then use BeautifulSoup to crawl popular marketplaces like Amazon."
   ]
  },
  {
   "cell_type": "markdown",
   "id": "788ce41b-e82e-4271-a0f7-8e236f8f8b60",
   "metadata": {},
   "source": [
    "## Image Extraction\n",
    "The following code deals with the capture and preprocessing of webcam images, then the extraction of text from the product."
   ]
  },
  {
   "cell_type": "code",
   "execution_count": 4,
   "id": "3662fc13-e348-4f5d-aa29-ba4119f1408a",
   "metadata": {},
   "outputs": [],
   "source": [
    "import cv2\n",
    "import pytesseract\n",
    "import requests"
   ]
  },
  {
   "cell_type": "code",
   "execution_count": 6,
   "id": "452a3b18-3b9e-444f-9368-78c5d8ef8187",
   "metadata": {},
   "outputs": [
    {
     "name": "stdout",
     "output_type": "stream",
     "text": [
      "opencv_img_0.png written!\n"
     ]
    }
   ],
   "source": [
    "cap = cv2.VideoCapture(0)\n",
    "east = cv2.dnn.TextDetectionModel\n",
    "\n",
    "cv2.namedWindow(\"Scan Product Here\")\n",
    "imageNum = 0\n",
    "imageList = []\n",
    "\n",
    "while cap.isOpened():\n",
    "    ret, frame = cap.read()\n",
    "\n",
    "    if not ret:\n",
    "        print(\"Can't receive frame. Exiting...\")\n",
    "        break\n",
    "    cv2.imshow(\"Scan Product Here\", frame)\n",
    "\n",
    "    # draw rectangle around visible text\n",
    "\n",
    "    # quit if q or space pressed\n",
    "    if cv2.waitKey(1) == ord('q'):\n",
    "        break\n",
    "    # 32 represents unicode number for space bar\n",
    "    elif cv2.waitKey(1) == 32:\n",
    "        filename = f\"opencv_img_{imageNum}.png\"\n",
    "        cv2.imwrite(filename, frame)\n",
    "        print(f\"{filename} written!\")\n",
    "        imageNum += 1\n",
    "        imageList.append(filename)\n",
    "\n",
    "cap.release()\n",
    "cv2.destroyAllWindows()"
   ]
  },
  {
   "cell_type": "code",
   "execution_count": 12,
   "id": "5d6d4f57-5a8e-4511-b073-561f3e8a73df",
   "metadata": {},
   "outputs": [],
   "source": [
    "def barcode_scan(filename):\n",
    "    scanner = cv2.barcode.BarcodeDetector()\n",
    "    image = cv2.imread(filename, cv2.IMREAD_GRAYSCALE)\n",
    "    scanned_items = {}\n",
    "\n",
    "    cv2.imshow(\"Barcode Image\", image)\n",
    "    cv2.waitKey(0)\n",
    "    cv2.destroyAllWindows()\n",
    "    \n",
    "    res, info, type, pts = scanner.detectAndDecodeWithType(image)\n",
    "    if res == True and len(info) > 0:\n",
    "        # check what type of barcode it is\n",
    "        for bar in info:\n",
    "            res = requests.get('https://api.upcitemdb.com/prod/trial/lookup', params={'upc': bar})\n",
    "            scanned_items[bar] = res.text.items\n",
    "    else:\n",
    "        print(\"Couldn't find a barcode to read!\")\n",
    "\n",
    "    return scanned_items\n",
    "                \n",
    "                "
   ]
  },
  {
   "cell_type": "code",
   "execution_count": 4,
   "id": "3b0b6000-5b5c-4b0c-bcfd-79954a91e0ce",
   "metadata": {},
   "outputs": [],
   "source": [
    "def preprocess_image(filename):\n",
    "    image = cv2.imread(filename, cv2.IMREAD_GRAYSCALE)\n",
    "    cv2.imshow(\"Filtered Image\", image)\n",
    "    # binarization with adaptive thresholding\n",
    "    image = cv2.adaptiveThreshold(image, 255, cv2.ADAPTIVE_THRESH_GAUSSIAN_C, cv2.THRESH_BINARY, 9, 2)\n",
    "    # denoise image\n",
    "    image = cv2.fastNIMeansDenoising(image, None, 2, 7, 21)"
   ]
  },
  {
   "cell_type": "code",
   "execution_count": 13,
   "id": "ff5f6a61-5616-4f64-b8f0-e585f1904f51",
   "metadata": {},
   "outputs": [
    {
     "name": "stdout",
     "output_type": "stream",
     "text": [
      "Couldn't find a barcode to read!\n",
      "{}\n"
     ]
    }
   ],
   "source": [
    "items = barcode_scan('opencv_img_0.png')\n",
    "print(items)"
   ]
  },
  {
   "cell_type": "markdown",
   "id": "97f25c01-6268-430c-8019-a26f8b2daa5e",
   "metadata": {},
   "source": [
    "## Web Crawling Functions\n",
    "The next lines of code will deal with scraping information from Amazon and eBay, in order to extract prices and determine ratings."
   ]
  },
  {
   "cell_type": "code",
   "execution_count": 1,
   "id": "2ca1eeea-f3c5-4f8a-b1d7-de790053bb87",
   "metadata": {},
   "outputs": [],
   "source": [
    "from bs4 import BeautifulSoup\n",
    "import time\n",
    "from selenium import webdriver\n",
    "from selenium.webdriver.chrome.service import Service as ChromeService\n",
    "from webdriver_manager.chrome import ChromeDriverManager\n",
    "\n",
    "from selenium.webdriver.support.ui import WebDriverWait\n",
    "from selenium.webdriver.common.by import By\n",
    "from selenium.webdriver.support import expected_conditions as EC\n",
    "from selenium.webdriver.chrome.options import Options"
   ]
  },
  {
   "cell_type": "code",
   "execution_count": 2,
   "id": "0554dcea-4e29-4933-9702-959bd2b8411c",
   "metadata": {},
   "outputs": [],
   "source": [
    "# we want to get the urls of the first page\n",
    "# Amazon is blocking my requests lol\n",
    "def search_products(text):\n",
    "    opts = webdriver.ChromeOptions()\n",
    "    opts.add_argument('--headless')\n",
    "    driver = webdriver.Chrome(options=opts, service=ChromeService(ChromeDriverManager().install()))\n",
    "\n",
    "    res = driver.page_source\n",
    "    soup = BeautifulSoup(res, 'html.parser')\n",
    "\n",
    "    text = text.replace(' ', '+')\n",
    "    url = f'https://www.amazon.com/s?k={text}'\n",
    "\n",
    "    driver.get(url)\n",
    "\n",
    "    # get the divs for which we can get the product name from\n",
    "    names = list(soup.findAll('div', class_='a-size-medium a-color-base a-text-normal'))\n",
    "    prices = list(soup.findAll('div', class_='a-price-whole'))"
   ]
  },
  {
   "cell_type": "code",
   "execution_count": 3,
   "id": "eb6268cf-393e-434b-96cd-0d7ddd9a7804",
   "metadata": {},
   "outputs": [
    {
     "ename": "WebDriverException",
     "evalue": "Message: unknown error: net::ERR_CONNECTION_RESET\n  (Session info: chrome-headless-shell=121.0.6167.185)\nStacktrace:\n\tGetHandleVerifier [0x011BE123+48179]\n\t(No symbol) [0x01145D01]\n\t(No symbol) [0x0102D72D]\n\t(No symbol) [0x01029EAD]\n\t(No symbol) [0x010202CA]\n\t(No symbol) [0x0101F442]\n\t(No symbol) [0x0101E97E]\n\t(No symbol) [0x0101E924]\n\t(No symbol) [0x0101D3CD]\n\t(No symbol) [0x0101DB4B]\n\t(No symbol) [0x0102F716]\n\t(No symbol) [0x0109B171]\n\t(No symbol) [0x01083C8C]\n\t(No symbol) [0x0109AA1E]\n\t(No symbol) [0x01083A26]\n\t(No symbol) [0x0105B7BC]\n\t(No symbol) [0x0105C62D]\n\tGetHandleVerifier [0x014D7C33+3299139]\n\tGetHandleVerifier [0x01515BF2+3553026]\n\tGetHandleVerifier [0x01510BCC+3532508]\n\tGetHandleVerifier [0x0125494E+664670]\n\t(No symbol) [0x01150AB4]\n\t(No symbol) [0x0114BF08]\n\t(No symbol) [0x0114C02D]\n\t(No symbol) [0x0113DD00]\n\tBaseThreadInitThunk [0x761CFCC9+25]\n\tRtlGetAppContainerNamedObjectPath [0x77E57C5E+286]\n\tRtlGetAppContainerNamedObjectPath [0x77E57C2E+238]\n",
     "output_type": "error",
     "traceback": [
      "\u001b[1;31m---------------------------------------------------------------------------\u001b[0m",
      "\u001b[1;31mWebDriverException\u001b[0m                        Traceback (most recent call last)",
      "Cell \u001b[1;32mIn[3], line 1\u001b[0m\n\u001b[1;32m----> 1\u001b[0m \u001b[43msearch_products\u001b[49m\u001b[43m(\u001b[49m\u001b[38;5;124;43m\"\u001b[39;49m\u001b[38;5;124;43mLady Gaga\u001b[39;49m\u001b[38;5;124;43m\"\u001b[39;49m\u001b[43m)\u001b[49m\n",
      "Cell \u001b[1;32mIn[2], line 10\u001b[0m, in \u001b[0;36msearch_products\u001b[1;34m(text)\u001b[0m\n\u001b[0;32m      7\u001b[0m text \u001b[38;5;241m=\u001b[39m text\u001b[38;5;241m.\u001b[39mreplace(\u001b[38;5;124m'\u001b[39m\u001b[38;5;124m \u001b[39m\u001b[38;5;124m'\u001b[39m, \u001b[38;5;124m'\u001b[39m\u001b[38;5;124m+\u001b[39m\u001b[38;5;124m'\u001b[39m)\n\u001b[0;32m      8\u001b[0m url \u001b[38;5;241m=\u001b[39m \u001b[38;5;124mf\u001b[39m\u001b[38;5;124m'\u001b[39m\u001b[38;5;124mhttps://www.amazon.com/s?k=\u001b[39m\u001b[38;5;132;01m{\u001b[39;00mtext\u001b[38;5;132;01m}\u001b[39;00m\u001b[38;5;124m'\u001b[39m\n\u001b[1;32m---> 10\u001b[0m \u001b[43mdriver\u001b[49m\u001b[38;5;241;43m.\u001b[39;49m\u001b[43mget\u001b[49m\u001b[43m(\u001b[49m\u001b[38;5;124;43m'\u001b[39;49m\u001b[38;5;124;43mhttps://amazon.com\u001b[39;49m\u001b[38;5;124;43m'\u001b[39;49m\u001b[43m)\u001b[49m\n",
      "File \u001b[1;32mD:\\Anaconda\\lib\\site-packages\\selenium\\webdriver\\remote\\webdriver.py:356\u001b[0m, in \u001b[0;36mWebDriver.get\u001b[1;34m(self, url)\u001b[0m\n\u001b[0;32m    354\u001b[0m \u001b[38;5;28;01mdef\u001b[39;00m \u001b[38;5;21mget\u001b[39m(\u001b[38;5;28mself\u001b[39m, url: \u001b[38;5;28mstr\u001b[39m) \u001b[38;5;241m-\u001b[39m\u001b[38;5;241m>\u001b[39m \u001b[38;5;28;01mNone\u001b[39;00m:\n\u001b[0;32m    355\u001b[0m \u001b[38;5;250m    \u001b[39m\u001b[38;5;124;03m\"\"\"Loads a web page in the current browser session.\"\"\"\u001b[39;00m\n\u001b[1;32m--> 356\u001b[0m     \u001b[38;5;28;43mself\u001b[39;49m\u001b[38;5;241;43m.\u001b[39;49m\u001b[43mexecute\u001b[49m\u001b[43m(\u001b[49m\u001b[43mCommand\u001b[49m\u001b[38;5;241;43m.\u001b[39;49m\u001b[43mGET\u001b[49m\u001b[43m,\u001b[49m\u001b[43m \u001b[49m\u001b[43m{\u001b[49m\u001b[38;5;124;43m\"\u001b[39;49m\u001b[38;5;124;43murl\u001b[39;49m\u001b[38;5;124;43m\"\u001b[39;49m\u001b[43m:\u001b[49m\u001b[43m \u001b[49m\u001b[43murl\u001b[49m\u001b[43m}\u001b[49m\u001b[43m)\u001b[49m\n",
      "File \u001b[1;32mD:\\Anaconda\\lib\\site-packages\\selenium\\webdriver\\remote\\webdriver.py:347\u001b[0m, in \u001b[0;36mWebDriver.execute\u001b[1;34m(self, driver_command, params)\u001b[0m\n\u001b[0;32m    345\u001b[0m response \u001b[38;5;241m=\u001b[39m \u001b[38;5;28mself\u001b[39m\u001b[38;5;241m.\u001b[39mcommand_executor\u001b[38;5;241m.\u001b[39mexecute(driver_command, params)\n\u001b[0;32m    346\u001b[0m \u001b[38;5;28;01mif\u001b[39;00m response:\n\u001b[1;32m--> 347\u001b[0m     \u001b[38;5;28;43mself\u001b[39;49m\u001b[38;5;241;43m.\u001b[39;49m\u001b[43merror_handler\u001b[49m\u001b[38;5;241;43m.\u001b[39;49m\u001b[43mcheck_response\u001b[49m\u001b[43m(\u001b[49m\u001b[43mresponse\u001b[49m\u001b[43m)\u001b[49m\n\u001b[0;32m    348\u001b[0m     response[\u001b[38;5;124m\"\u001b[39m\u001b[38;5;124mvalue\u001b[39m\u001b[38;5;124m\"\u001b[39m] \u001b[38;5;241m=\u001b[39m \u001b[38;5;28mself\u001b[39m\u001b[38;5;241m.\u001b[39m_unwrap_value(response\u001b[38;5;241m.\u001b[39mget(\u001b[38;5;124m\"\u001b[39m\u001b[38;5;124mvalue\u001b[39m\u001b[38;5;124m\"\u001b[39m, \u001b[38;5;28;01mNone\u001b[39;00m))\n\u001b[0;32m    349\u001b[0m     \u001b[38;5;28;01mreturn\u001b[39;00m response\n",
      "File \u001b[1;32mD:\\Anaconda\\lib\\site-packages\\selenium\\webdriver\\remote\\errorhandler.py:229\u001b[0m, in \u001b[0;36mErrorHandler.check_response\u001b[1;34m(self, response)\u001b[0m\n\u001b[0;32m    227\u001b[0m         alert_text \u001b[38;5;241m=\u001b[39m value[\u001b[38;5;124m\"\u001b[39m\u001b[38;5;124malert\u001b[39m\u001b[38;5;124m\"\u001b[39m]\u001b[38;5;241m.\u001b[39mget(\u001b[38;5;124m\"\u001b[39m\u001b[38;5;124mtext\u001b[39m\u001b[38;5;124m\"\u001b[39m)\n\u001b[0;32m    228\u001b[0m     \u001b[38;5;28;01mraise\u001b[39;00m exception_class(message, screen, stacktrace, alert_text)  \u001b[38;5;66;03m# type: ignore[call-arg]  # mypy is not smart enough here\u001b[39;00m\n\u001b[1;32m--> 229\u001b[0m \u001b[38;5;28;01mraise\u001b[39;00m exception_class(message, screen, stacktrace)\n",
      "\u001b[1;31mWebDriverException\u001b[0m: Message: unknown error: net::ERR_CONNECTION_RESET\n  (Session info: chrome-headless-shell=121.0.6167.185)\nStacktrace:\n\tGetHandleVerifier [0x011BE123+48179]\n\t(No symbol) [0x01145D01]\n\t(No symbol) [0x0102D72D]\n\t(No symbol) [0x01029EAD]\n\t(No symbol) [0x010202CA]\n\t(No symbol) [0x0101F442]\n\t(No symbol) [0x0101E97E]\n\t(No symbol) [0x0101E924]\n\t(No symbol) [0x0101D3CD]\n\t(No symbol) [0x0101DB4B]\n\t(No symbol) [0x0102F716]\n\t(No symbol) [0x0109B171]\n\t(No symbol) [0x01083C8C]\n\t(No symbol) [0x0109AA1E]\n\t(No symbol) [0x01083A26]\n\t(No symbol) [0x0105B7BC]\n\t(No symbol) [0x0105C62D]\n\tGetHandleVerifier [0x014D7C33+3299139]\n\tGetHandleVerifier [0x01515BF2+3553026]\n\tGetHandleVerifier [0x01510BCC+3532508]\n\tGetHandleVerifier [0x0125494E+664670]\n\t(No symbol) [0x01150AB4]\n\t(No symbol) [0x0114BF08]\n\t(No symbol) [0x0114C02D]\n\t(No symbol) [0x0113DD00]\n\tBaseThreadInitThunk [0x761CFCC9+25]\n\tRtlGetAppContainerNamedObjectPath [0x77E57C5E+286]\n\tRtlGetAppContainerNamedObjectPath [0x77E57C2E+238]\n"
     ]
    }
   ],
   "source": [
    "search_products(\"Lady Gaga\")"
   ]
  }
 ],
 "metadata": {
  "kernelspec": {
   "display_name": "Python 3 (ipykernel)",
   "language": "python",
   "name": "python3"
  },
  "language_info": {
   "codemirror_mode": {
    "name": "ipython",
    "version": 3
   },
   "file_extension": ".py",
   "mimetype": "text/x-python",
   "name": "python",
   "nbconvert_exporter": "python",
   "pygments_lexer": "ipython3",
   "version": "3.10.9"
  }
 },
 "nbformat": 4,
 "nbformat_minor": 5
}
